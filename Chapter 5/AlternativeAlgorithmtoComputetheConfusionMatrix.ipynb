{
 "cells": [
  {
   "cell_type": "code",
   "execution_count": 1,
   "metadata": {
    "collapsed": true
   },
   "outputs": [],
   "source": [
    "import numpy as np\n",
    "\n",
    "def confusion_matrix1(pred, gt):\n",
    "    cont = np.zeros((2, 2))\n",
    "    for i, j in zip(pred, gt):\n",
    "        cont[i, j] += 1\n",
    "    return cont"
   ]
  },
  {
   "cell_type": "code",
   "execution_count": 2,
   "outputs": [],
   "source": [
    "def confusion_matrix1(pred, gt):\n",
    "    cont = np.zeros((2, 2))\n",
    "    for idx in range(len(pred)):\n",
    "        i = pred[idx]\n",
    "        j = gt[idx]\n",
    "        cont[i, j] += 1\n",
    "    return cont\n"
   ],
   "metadata": {
    "collapsed": false,
    "pycharm": {
     "name": "#%%\n"
    }
   }
  }
 ],
 "metadata": {
  "kernelspec": {
   "display_name": "Python 3",
   "language": "python",
   "name": "python3"
  },
  "language_info": {
   "codemirror_mode": {
    "name": "ipython",
    "version": 2
   },
   "file_extension": ".py",
   "mimetype": "text/x-python",
   "name": "python",
   "nbconvert_exporter": "python",
   "pygments_lexer": "ipython2",
   "version": "2.7.6"
  }
 },
 "nbformat": 4,
 "nbformat_minor": 0
}