{
 "cells": [
  {
   "cell_type": "code",
   "execution_count": 1,
   "metadata": {
    "collapsed": true
   },
   "outputs": [],
   "source": [
    "import numpy as np\n",
    "\n",
    "s2 = np.array([[0, 0, 6, 0, 0],\n",
    "               [1, 2, 0, 4, 5],\n",
    "               [0, 1, 0, 0, 0],\n",
    "               [9, 0, 0, 0, 0],\n",
    "               [0, 0, 0, 6, 7]])"
   ]
  },
  {
   "cell_type": "code",
   "execution_count": 2,
   "outputs": [],
   "source": [
    "s2_data = np.array([6, 1, 2, 4, 5, 1, 9, 6, 7])"
   ],
   "metadata": {
    "collapsed": false,
    "pycharm": {
     "name": "#%%\n"
    }
   }
  },
  {
   "cell_type": "code",
   "execution_count": 3,
   "outputs": [],
   "source": [
    "s2_row = np.array([0, 1, 1, 1, 1, 2, 3, 4, 4])"
   ],
   "metadata": {
    "collapsed": false,
    "pycharm": {
     "name": "#%%\n"
    }
   }
  },
  {
   "cell_type": "code",
   "execution_count": 4,
   "outputs": [],
   "source": [
    "s2_col = np.array([2, 0, 1, 3, 4, 1, 0, 3, 4])"
   ],
   "metadata": {
    "collapsed": false,
    "pycharm": {
     "name": "#%%\n"
    }
   }
  },
  {
   "cell_type": "code",
   "execution_count": 5,
   "outputs": [
    {
     "name": "stdout",
     "output_type": "stream",
     "text": [
      "[6 1 2 4 5 1 9 6 7]\n",
      "[0 1 1 1 1 2 3 4 4]\n",
      "[2 0 1 3 4 1 0 3 4]\n"
     ]
    }
   ],
   "source": [
    "from scipy import sparse\n",
    "\n",
    "s2_coo0 = sparse.coo_matrix(s2)\n",
    "print(s2_coo0.data)\n",
    "print(s2_coo0.row)\n",
    "print(s2_coo0.col)"
   ],
   "metadata": {
    "collapsed": false,
    "pycharm": {
     "name": "#%%\n"
    }
   }
  },
  {
   "cell_type": "code",
   "execution_count": 6,
   "outputs": [
    {
     "name": "stdout",
     "output_type": "stream",
     "text": [
      "[[0 0 6 0 0]\n",
      " [1 2 0 4 5]\n",
      " [0 1 0 0 0]\n",
      " [9 0 0 0 0]\n",
      " [0 0 0 6 7]]\n"
     ]
    }
   ],
   "source": [
    "s2_coo1 = sparse.coo_matrix((s2_data, (s2_row, s2_col)))\n",
    "print(s2_coo1.toarray())\n"
   ],
   "metadata": {
    "collapsed": false,
    "pycharm": {
     "name": "#%%\n"
    }
   }
  }
 ],
 "metadata": {
  "kernelspec": {
   "display_name": "Python 3",
   "language": "python",
   "name": "python3"
  },
  "language_info": {
   "codemirror_mode": {
    "name": "ipython",
    "version": 2
   },
   "file_extension": ".py",
   "mimetype": "text/x-python",
   "name": "python",
   "nbconvert_exporter": "python",
   "pygments_lexer": "ipython2",
   "version": "2.7.6"
  }
 },
 "nbformat": 4,
 "nbformat_minor": 0
}