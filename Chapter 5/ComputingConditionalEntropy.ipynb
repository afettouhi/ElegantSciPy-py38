{
 "cells": [
  {
   "cell_type": "code",
   "execution_count": 1,
   "metadata": {
    "collapsed": true
   },
   "outputs": [],
   "source": [
    "import numpy as np\n",
    "\n",
    "prains = np.array([25, 27, 24, 18, 14, 11, 7, 8, 10, 15, 18, 23]) / 100\n",
    "pshine = 1 - prains\n",
    "p_rain_g_month = np.column_stack([prains, pshine])\n",
    "# replace 'None' below with expression for nonconditional contingency\n",
    "# table. Hint: the values in the table must sum to 1.\n",
    "p_rain_month = None\n",
    "# Add your code below to compute H(M|R) and H(M)"
   ]
  },
  {
   "cell_type": "code",
   "execution_count": 2,
   "outputs": [
    {
     "name": "stdout",
     "output_type": "stream",
     "text": [
      "table total: 12.0\n"
     ]
    }
   ],
   "source": [
    "print('table total:', np.sum(p_rain_g_month))\n",
    "p_rain_month = p_rain_g_month / np.sum(p_rain_g_month)\n"
   ],
   "metadata": {
    "collapsed": false,
    "pycharm": {
     "name": "#%%\n"
    }
   }
  }
 ],
 "metadata": {
  "kernelspec": {
   "display_name": "Python 3",
   "language": "python",
   "name": "python3"
  },
  "language_info": {
   "codemirror_mode": {
    "name": "ipython",
    "version": 2
   },
   "file_extension": ".py",
   "mimetype": "text/x-python",
   "name": "python",
   "nbconvert_exporter": "python",
   "pygments_lexer": "ipython2",
   "version": "2.7.6"
  }
 },
 "nbformat": 4,
 "nbformat_minor": 0
}