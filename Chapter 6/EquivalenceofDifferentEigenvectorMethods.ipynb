{
 "cells": [
  {
   "cell_type": "code",
   "execution_count": 1,
   "metadata": {
    "collapsed": true
   },
   "outputs": [],
   "source": [
    "import numpy as np\n",
    "import networkx as nx\n",
    "\n",
    "stmarks = nx.read_gml('../data/stmarks.gml')"
   ]
  },
  {
   "cell_type": "code",
   "execution_count": 2,
   "outputs": [],
   "source": [
    "species = np.array(stmarks.nodes())  # array for multiindexing\n",
    "Adj = nx.to_scipy_sparse_matrix(stmarks, dtype=np.float64)"
   ],
   "metadata": {
    "collapsed": false,
    "pycharm": {
     "name": "#%%\n"
    }
   }
  },
  {
   "cell_type": "code",
   "execution_count": 3,
   "outputs": [],
   "source": [
    "n = len(species)"
   ],
   "metadata": {
    "collapsed": false,
    "pycharm": {
     "name": "#%%\n"
    }
   }
  },
  {
   "cell_type": "code",
   "execution_count": 4,
   "outputs": [],
   "source": [
    "np.seterr(divide='ignore')  # ignore division-by-zero errors\n",
    "from scipy import sparse\n",
    "\n",
    "degrees = np.ravel(Adj.sum(axis=1))\n",
    "Deginv = sparse.diags(1 / degrees).tocsr()\n",
    "\n",
    "Trans = (Deginv @ Adj).T"
   ],
   "metadata": {
    "collapsed": false,
    "pycharm": {
     "name": "#%%\n"
    }
   }
  },
  {
   "cell_type": "code",
   "execution_count": 5,
   "outputs": [],
   "source": [
    "from scipy.sparse.linalg import spsolve\n",
    "\n",
    "damping = 0.85\n",
    "beta = 1 - damping\n",
    "\n",
    "I = sparse.eye(n, format='csc')  # Same sparse format as Trans\n",
    "\n",
    "pagerank = spsolve(I - damping * Trans,\n",
    "                   np.full(n, beta / n))"
   ],
   "metadata": {
    "collapsed": false,
    "pycharm": {
     "name": "#%%\n"
    }
   }
  },
  {
   "cell_type": "code",
   "execution_count": 6,
   "outputs": [],
   "source": [
    "def power(Trans, damping=0.85, max_iter=10**5):\n",
    "    n = Trans.shape[0]\n",
    "    r0 = np.full(n, 1/n)\n",
    "    r = r0\n",
    "    for _iter_num in range(max_iter):\n",
    "        rnext = damping * Trans @ r + (1 - damping) / n\n",
    "        if np.allclose(rnext, r):\n",
    "            break\n",
    "        r = rnext\n",
    "    return r\n"
   ],
   "metadata": {
    "collapsed": false,
    "pycharm": {
     "name": "#%%\n"
    }
   }
  },
  {
   "cell_type": "code",
   "execution_count": 7,
   "outputs": [],
   "source": [
    "def power2(Trans, damping=0.85, max_iter=10**5):\n",
    "    n = Trans.shape[0]\n",
    "    dangling = (1/n) * np.ravel(Trans.sum(axis=0) == 0)\n",
    "    r0 = np.full(n, 1/n)\n",
    "    r = r0\n",
    "    for _ in range(max_iter):\n",
    "        rnext = (damping * (Trans @ r + dangling @ r) +\n",
    "                 (1 - damping) / n)\n",
    "        if np.allclose(rnext, r):\n",
    "            return rnext\n",
    "        else:\n",
    "            r = rnext\n",
    "    return r"
   ],
   "metadata": {
    "collapsed": false,
    "pycharm": {
     "name": "#%%\n"
    }
   }
  },
  {
   "cell_type": "code",
   "execution_count": 8,
   "outputs": [
    {
     "data": {
      "text/plain": "array([[1., 1., 1.],\n       [1., 1., 1.],\n       [1., 1., 1.]])"
     },
     "execution_count": 8,
     "metadata": {},
     "output_type": "execute_result"
    }
   ],
   "source": [
    "pagerank_power = power(Trans)\n",
    "pagerank_power2 = power2(Trans)\n",
    "np.corrcoef([pagerank, pagerank_power, pagerank_power2])\n"
   ],
   "metadata": {
    "collapsed": false,
    "pycharm": {
     "name": "#%%\n"
    }
   }
  }
 ],
 "metadata": {
  "kernelspec": {
   "display_name": "Python 3",
   "language": "python",
   "name": "python3"
  },
  "language_info": {
   "codemirror_mode": {
    "name": "ipython",
    "version": 2
   },
   "file_extension": ".py",
   "mimetype": "text/x-python",
   "name": "python",
   "nbconvert_exporter": "python",
   "pygments_lexer": "ipython2",
   "version": "2.7.6"
  }
 },
 "nbformat": 4,
 "nbformat_minor": 0
}