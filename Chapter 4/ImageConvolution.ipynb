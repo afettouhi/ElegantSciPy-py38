{
 "cells": [
  {
   "cell_type": "code",
   "execution_count": 1,
   "metadata": {
    "collapsed": true
   },
   "outputs": [
    {
     "name": "stdout",
     "output_type": "stream",
     "text": [
      "Resulting shape: (54, 54)  <-- Why?\n",
      "Results are equal? True\n"
     ]
    }
   ],
   "source": [
    "import numpy as np\n",
    "from scipy import signal\n",
    "\n",
    "x = np.random.random((50, 50))\n",
    "y = np.ones((5, 5))\n",
    "\n",
    "L = x.shape[0] + y.shape[0] - 1\n",
    "Px = L - x.shape[0]\n",
    "Py = L - y.shape[0]\n",
    "\n",
    "xx = np.pad(x, ((0, Px), (0, Px)), mode='constant')\n",
    "yy = np.pad(y, ((0, Py), (0, Py)), mode='constant')\n",
    "\n",
    "zz = np.fft.ifft2(np.fft.fft2(xx) * np.fft.fft2(yy)).real\n",
    "print('Resulting shape:', zz.shape, ' <-- Why?')\n",
    "\n",
    "z = signal.convolve2d(x, y)\n",
    "\n",
    "print('Results are equal?', np.allclose(zz, z))"
   ]
  },
  {
   "cell_type": "code",
   "execution_count": null,
   "outputs": [],
   "source": [
    "\n"
   ],
   "metadata": {
    "collapsed": false,
    "pycharm": {
     "name": "#%%\n"
    }
   }
  }
 ],
 "metadata": {
  "kernelspec": {
   "display_name": "Python 3",
   "language": "python",
   "name": "python3"
  },
  "language_info": {
   "codemirror_mode": {
    "name": "ipython",
    "version": 2
   },
   "file_extension": ".py",
   "mimetype": "text/x-python",
   "name": "python",
   "nbconvert_exporter": "python",
   "pygments_lexer": "ipython2",
   "version": "2.7.6"
  }
 },
 "nbformat": 4,
 "nbformat_minor": 0
}